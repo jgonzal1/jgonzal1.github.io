{
 "cells": [
  {
   "cell_type": "markdown",
   "metadata": {},
   "source": [
    "# Notes"
   ]
  },
  {
   "cell_type": "code",
   "execution_count": null,
   "metadata": {},
   "outputs": [
    {
     "name": "stdout",
     "output_type": "stream",
     "text": [
      "raw_df\n",
      "    pk  a  n2  n3  n4\n",
      "0   1  a   1   0   0\n",
      "1   1      0   1   0\n",
      "2   2  b   1   0   0\n",
      "3   2  c   0   0   1\n",
      "\n",
      "a_df\n",
      "    pk    a\n",
      "0   1    a\n",
      "1   2  b,c\n",
      "\n",
      "nn_df\n",
      "    pk  n2  n3  n4\n",
      "0   1   1   1   0\n",
      "1   2   1   0   1\n",
      "\n",
      "curated_df\n",
      "    pk    a  n2  n3  n4\n",
      "0   1    a   1   1   0\n",
      "1   2  b,c   1   0   1\n"
     ]
    }
   ],
   "source": [
    "import pandas as pd\n",
    "raw_df = pd.DataFrame({\n",
    "  \"pk\": [  1,  1, 2,     2],\n",
    "  \"a\":  [\"a\", \"\", \"b\", \"c\"],\n",
    "  \"n2\": [  1,  0,   1,   0],\n",
    "  \"n3\": [  0,  1,   0,   0],\n",
    "  \"n4\": [  0,  0,   0,   1]\n",
    "})\n",
    "print(\"raw_df\\n\", raw_df)\n",
    "\n",
    "a_df = raw_df.groupby([\n",
    "  \"pk\"\n",
    "])[\"a\"].apply(\n",
    "  lambda x: \",\".join(filter(None, x))\n",
    ").reset_index()\n",
    "print(\"\\na_df\\n\", a_df)\n",
    "\n",
    "nn_df = raw_df[[\n",
    "  \"pk\", \"n2\", \"n3\", \"n4\"\n",
    "]].drop_duplicates().groupby([\n",
    "  \"pk\"\n",
    "]).sum().reset_index()\n",
    "print(\"\\nnn_df\\n\", nn_df)\n",
    "\n",
    "curated_df = pd.merge(a_df, nn_df, on=\"pk\")\n",
    "print(\"\\ncurated_df\\n\", curated_df)"
   ]
  }
 ],
 "metadata": {
  "language_info": {
   "name": "python"
  }
 },
 "nbformat": 4,
 "nbformat_minor": 2
}
