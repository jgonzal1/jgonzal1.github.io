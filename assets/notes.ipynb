{
 "cells": [
  {
   "cell_type": "markdown",
   "metadata": {},
   "source": [
    "# Notes"
   ]
  },
  {
   "cell_type": "code",
   "execution_count": null,
   "metadata": {},
   "outputs": [
    {
     "name": "stdout",
     "output_type": "stream",
     "text": [
      "raw_df\n",
      "    pk  a  n2  n3  n4\n",
      "0   1  a   1   0   0\n",
      "1   1      0   1   0\n",
      "2   2  b   1   0   0\n",
      "3   2  c   0   0   1\n",
      "\n",
      "a_df\n",
      "    pk    a\n",
      "0   1    a\n",
      "1   2  b,c\n",
      "\n",
      "nn_df\n",
      "    pk  n2  n3  n4\n",
      "0   1   1   1   0\n",
      "1   2   1   0   1\n",
      "\n",
      "curated_df\n",
      "    pk    a  n2  n3  n4\n",
      "0   1    a   1   1   0\n",
      "1   2  b,c   1   0   1\n"
     ]
    }
   ],
   "source": [
    "import pandas as pd\n",
    "raw_df = pd.DataFrame({\n",
    "  \"pk\": [  1,  1, 2,     2],\n",
    "  \"a\":  [\"a\", \"\", \"b\", \"c\"],\n",
    "  \"n2\": [  1,  0,   1,   0],\n",
    "  \"n3\": [  0,  1,   0,   0],\n",
    "  \"n4\": [  0,  0,   0,   1]\n",
    "})\n",
    "print(\"raw_df\\n\", raw_df)\n",
    "\n",
    "a_df = raw_df.groupby([\n",
    "  \"pk\"\n",
    "])[\"a\"].apply(\n",
    "  lambda x: \",\".join(filter(None, x))\n",
    ").reset_index()\n",
    "print(\"\\na_df\\n\", a_df)\n",
    "\n",
    "nn_df = raw_df[[\n",
    "  \"pk\", \"n2\", \"n3\", \"n4\"\n",
    "]].drop_duplicates().groupby([\n",
    "  \"pk\"\n",
    "]).sum().reset_index()\n",
    "print(\"\\nnn_df\\n\", nn_df)\n",
    "\n",
    "curated_df = pd.merge(a_df, nn_df, on=\"pk\")\n",
    "print(\"\\ncurated_df\\n\", curated_df)"
   ]
  },
  {
   "cell_type": "code",
   "execution_count": 30,
   "metadata": {},
   "outputs": [
    {
     "name": "stdout",
     "output_type": "stream",
     "text": [
      "raw_df\n",
      "    pk  a  n2  n3  n4\n",
      "0   1  a   1   0   0\n",
      "1   1      0   1   0\n",
      "2   2  b   1   0   0\n",
      "3   2  c   0   0   1\n",
      "\n",
      "pivoted_df\n",
      "    pk  n2  n2.a  n2.b  n2.c  n3  n3.a  n3.b  n3.c  n4  n4.a  n4.b  n4.c\n",
      "0   1   0     1     0     0   1     0     0     0   0     0     0     0\n",
      "1   2   0     0     1     0   0     0     0     0   0     0     0     1\n",
      "\n",
      "filtered_pivoted_df\n",
      "    pk  n2.a  n2.b  n3  n4.c\n",
      "0   1     1     0   1     0\n",
      "1   2     0     1   0     1\n"
     ]
    }
   ],
   "source": [
    "import pandas as pd\n",
    "raw_df = pd.DataFrame({\n",
    "  \"pk\": [  1,  1, 2,     2],\n",
    "  \"a\":  [\"a\", \"\", \"b\", \"c\"],\n",
    "  \"n2\": [  1,  0,   1,   0],\n",
    "  \"n3\": [  0,  1,   0,   0],\n",
    "  \"n4\": [  0,  0,   0,   1]\n",
    "})\n",
    "print(\"raw_df\\n\", raw_df)\n",
    "\n",
    "pivoted_df = raw_df.pivot(\n",
    "  index=\"pk\", columns=\"a\", values=[\"n2\",\"n3\",\"n4\"]\n",
    ").fillna(0).reset_index()\n",
    "pivoted_df.columns = [\".\".join(filter(None, col)) for col in pivoted_df.columns.values]\n",
    "dtype_changes={}\n",
    "for col in list(pivoted_df.columns):\n",
    "  dtype_changes[col] = \"int32\"\n",
    "pivoted_df = pivoted_df.astype(dtype_changes)\n",
    "print(\"\\npivoted_df\\n\", pivoted_df)\n",
    "\n",
    "filtered_pivoted_df = pivoted_df.loc[:, (pivoted_df != 0).any(axis=0)]\n",
    "print(\"\\nfiltered_pivoted_df\\n\", filtered_pivoted_df)"
   ]
  }
 ],
 "metadata": {
  "kernelspec": {
   "display_name": "Python 3",
   "language": "python",
   "name": "python3"
  },
  "language_info": {
   "codemirror_mode": {
    "name": "ipython",
    "version": 3
   },
   "file_extension": ".py",
   "mimetype": "text/x-python",
   "name": "python",
   "nbconvert_exporter": "python",
   "pygments_lexer": "ipython3",
   "version": "3.12.3"
  }
 },
 "nbformat": 4,
 "nbformat_minor": 2
}
